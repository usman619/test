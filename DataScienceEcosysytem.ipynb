{
  "nbformat": 4,
  "nbformat_minor": 0,
  "metadata": {
    "colab": {
      "provenance": []
    },
    "kernelspec": {
      "name": "python3",
      "display_name": "Python 3"
    },
    "language_info": {
      "name": "python"
    }
  },
  "cells": [
    {
      "cell_type": "markdown",
      "source": [
        "<h1>Data Science Tools and Ecosytem</h1>"
      ],
      "metadata": {
        "id": "t_5pK472U5Sx"
      }
    },
    {
      "cell_type": "markdown",
      "source": [
        "In this notebook, Data Science Tools and Ecosystem are summarized.\n"
      ],
      "metadata": {
        "id": "P0D0C48tVJQO"
      }
    },
    {
      "cell_type": "markdown",
      "source": [
        "Some of the popular languages that Data Scientists use are:\n",
        "1. Python\n",
        "2. R\n",
        "3. Julia\n",
        "4. Java\n",
        "5. MATLAB"
      ],
      "metadata": {
        "id": "RRujDOsVVQ0S"
      }
    },
    {
      "cell_type": "markdown",
      "source": [
        "Some of the commonly used libraries used by Data Scientists include:\n",
        "1. Pandas\n",
        "2. Matplotlib\n",
        "3. Numpy\n",
        "4. Scikit-learn\n",
        "5. PyTorch\n",
        "6. Keras\n",
        "7. ggplot2\n",
        "8. Ploty\n",
        "9. Caret"
      ],
      "metadata": {
        "id": "vgUBuCxHVqDc"
      }
    },
    {
      "cell_type": "markdown",
      "source": [
        "|Data Science Tools|\n",
        "--"
      ],
      "metadata": {
        "id": "NEMJblo7WUQw"
      }
    },
    {
      "cell_type": "markdown",
      "source": [
        "Below are a few examples of evaluating arithmetic expressions in Python."
      ],
      "metadata": {
        "id": "mWTFO88KWpyp"
      }
    },
    {
      "cell_type": "code",
      "execution_count": 1,
      "metadata": {
        "colab": {
          "base_uri": "https://localhost:8080/"
        },
        "id": "j2cerkOiT0nF",
        "outputId": "03e4089c-3e4c-495e-81f9-e1eab1d7a7df"
      },
      "outputs": [
        {
          "output_type": "execute_result",
          "data": {
            "text/plain": [
              "17"
            ]
          },
          "metadata": {},
          "execution_count": 1
        }
      ],
      "source": [
        "(3*4)+5"
      ]
    },
    {
      "cell_type": "markdown",
      "source": [
        "This a simple arithmetic expression to mutiply then add integers."
      ],
      "metadata": {
        "id": "RZNsTthNWwhx"
      }
    },
    {
      "cell_type": "code",
      "source": [
        "200/60"
      ],
      "metadata": {
        "colab": {
          "base_uri": "https://localhost:8080/"
        },
        "id": "70ZXpOW_W5_R",
        "outputId": "b1c365d2-e260-4cbb-b649-eb47be6a15c0"
      },
      "execution_count": 2,
      "outputs": [
        {
          "output_type": "execute_result",
          "data": {
            "text/plain": [
              "3.3333333333333335"
            ]
          },
          "metadata": {},
          "execution_count": 2
        }
      ]
    },
    {
      "cell_type": "markdown",
      "source": [
        "This will convert 200 minutes to hours by diving by 60."
      ],
      "metadata": {
        "id": "U7OS2gDeW_mU"
      }
    },
    {
      "cell_type": "markdown",
      "source": [
        "**Objectives:**"
      ],
      "metadata": {
        "id": "_RequTCrXVd1"
      }
    },
    {
      "cell_type": "markdown",
      "source": [
        "List popular languages for Data Science:\n",
        "- Python\n",
        "- R\n",
        "- Julia\n",
        "- Java\n",
        "- MATLAB"
      ],
      "metadata": {
        "id": "bK6zrMfGXZ86"
      }
    },
    {
      "cell_type": "markdown",
      "source": [
        "<h2>Author</h2>\n",
        "Muhammad Usman"
      ],
      "metadata": {
        "id": "cEDDyBM1YRrb"
      }
    }
  ]
}